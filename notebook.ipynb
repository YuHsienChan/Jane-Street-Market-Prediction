{
 "cells": [
  {
   "cell_type": "code",
   "execution_count": 1,
   "metadata": {
    "_cell_guid": "b1076dfc-b9ad-4769-8c92-a6c4dae69d19",
    "_uuid": "8f2839f25d086af736a60e9eeb907d3b93b6e0e5",
    "execution": {
     "iopub.execute_input": "2020-12-26T02:20:25.282437Z",
     "iopub.status.busy": "2020-12-26T02:20:25.281573Z",
     "iopub.status.idle": "2020-12-26T02:20:25.290825Z",
     "shell.execute_reply": "2020-12-26T02:20:25.291785Z"
    },
    "papermill": {
     "duration": 0.025768,
     "end_time": "2020-12-26T02:20:25.291983",
     "exception": false,
     "start_time": "2020-12-26T02:20:25.266215",
     "status": "completed"
    },
    "tags": []
   },
   "outputs": [
    {
     "name": "stdout",
     "output_type": "stream",
     "text": [
      "/kaggle/input/jane-street-market-prediction/example_sample_submission.csv\n",
      "/kaggle/input/jane-street-market-prediction/features.csv\n",
      "/kaggle/input/jane-street-market-prediction/example_test.csv\n",
      "/kaggle/input/jane-street-market-prediction/train.csv\n",
      "/kaggle/input/jane-street-market-prediction/janestreet/competition.cpython-37m-x86_64-linux-gnu.so\n",
      "/kaggle/input/jane-street-market-prediction/janestreet/__init__.py\n"
     ]
    }
   ],
   "source": [
    "# This Python 3 environment comes with many helpful analytics libraries installed\n",
    "# It is defined by the kaggle/python Docker image: https://github.com/kaggle/docker-python\n",
    "# For example, here's several helpful packages to load\n",
    "\n",
    "import numpy as np # linear algebra\n",
    "import pandas as pd # data processing, CSV file I/O (e.g. pd.read_csv)\n",
    "\n",
    "# Input data files are available in the read-only \"../input/\" directory\n",
    "# For example, running this (by clicking run or pressing Shift+Enter) will list all files under the input directory\n",
    "\n",
    "import os\n",
    "for dirname, _, filenames in os.walk('/kaggle/input'):\n",
    "    for filename in filenames:\n",
    "        print(os.path.join(dirname, filename))\n",
    "\n",
    "# You can write up to 20GB to the current directory (/kaggle/working/) that gets preserved as output when you create a version using \"Save & Run All\" \n",
    "# You can also write temporary files to /kaggle/temp/, but they won't be saved outside of the current session"
   ]
  },
  {
   "cell_type": "code",
   "execution_count": 2,
   "metadata": {
    "execution": {
     "iopub.execute_input": "2020-12-26T02:20:25.312825Z",
     "iopub.status.busy": "2020-12-26T02:20:25.312083Z",
     "iopub.status.idle": "2020-12-26T02:20:26.289913Z",
     "shell.execute_reply": "2020-12-26T02:20:26.288786Z"
    },
    "papermill": {
     "duration": 0.990382,
     "end_time": "2020-12-26T02:20:26.290037",
     "exception": false,
     "start_time": "2020-12-26T02:20:25.299655",
     "status": "completed"
    },
    "tags": []
   },
   "outputs": [
    {
     "name": "stdout",
     "output_type": "stream",
     "text": [
      "Creating competition environment...Finished.\n"
     ]
    }
   ],
   "source": [
    "import os\n",
    "import numpy as np\n",
    "import pandas as pd\n",
    "from sklearn import preprocessing\n",
    "from sklearn.model_selection import GridSearchCV\n",
    "from sklearn.model_selection import StratifiedKFold\n",
    "from sklearn.model_selection import train_test_split\n",
    "\n",
    "# create the environment\n",
    "import janestreet\n",
    "print('Creating competition environment...', end='')\n",
    "env = janestreet.make_env()\n",
    "print('Finished.')"
   ]
  },
  {
   "cell_type": "code",
   "execution_count": 3,
   "metadata": {
    "execution": {
     "iopub.execute_input": "2020-12-26T02:20:26.312839Z",
     "iopub.status.busy": "2020-12-26T02:20:26.312133Z",
     "iopub.status.idle": "2020-12-26T02:22:52.951659Z",
     "shell.execute_reply": "2020-12-26T02:22:52.950495Z"
    },
    "papermill": {
     "duration": 146.654448,
     "end_time": "2020-12-26T02:22:52.951798",
     "exception": false,
     "start_time": "2020-12-26T02:20:26.297350",
     "status": "completed"
    },
    "tags": []
   },
   "outputs": [],
   "source": [
    "train = pd.read_csv('/kaggle/input/jane-street-market-prediction/train.csv')"
   ]
  },
  {
   "cell_type": "code",
   "execution_count": 4,
   "metadata": {
    "execution": {
     "iopub.execute_input": "2020-12-26T02:22:52.982522Z",
     "iopub.status.busy": "2020-12-26T02:22:52.979725Z",
     "iopub.status.idle": "2020-12-26T02:23:00.806936Z",
     "shell.execute_reply": "2020-12-26T02:23:00.806344Z"
    },
    "papermill": {
     "duration": 7.847834,
     "end_time": "2020-12-26T02:23:00.807053",
     "exception": false,
     "start_time": "2020-12-26T02:22:52.959219",
     "status": "completed"
    },
    "tags": []
   },
   "outputs": [],
   "source": [
    "features = [col for col in list(train.columns) if 'feature' in col]\n",
    "\n",
    "train = train[train['weight'] != 0]\n",
    "\n",
    "train['action'] = (train['resp'].values > 0).astype(int)\n",
    "\n",
    "f_mean = train.mean()\n",
    "train.fillna(f_mean)\n",
    "\n",
    "X = train.loc[:, features] # Features\n",
    "y = train['action'].astype(int) # Target variable\n",
    "X_train,X_test,y_train,y_test = train_test_split(X, y,test_size=0.3, random_state=55)\n",
    "del train"
   ]
  },
  {
   "cell_type": "code",
   "execution_count": 5,
   "metadata": {
    "execution": {
     "iopub.execute_input": "2020-12-26T02:23:00.827790Z",
     "iopub.status.busy": "2020-12-26T02:23:00.827031Z",
     "iopub.status.idle": "2020-12-26T02:23:00.961371Z",
     "shell.execute_reply": "2020-12-26T02:23:00.961896Z"
    },
    "papermill": {
     "duration": 0.147596,
     "end_time": "2020-12-26T02:23:00.962044",
     "exception": false,
     "start_time": "2020-12-26T02:23:00.814448",
     "status": "completed"
    },
    "tags": []
   },
   "outputs": [],
   "source": [
    "from catboost import CatBoostClassifier\n",
    "\n",
    "clf = CatBoostClassifier(depth=6,\n",
    "                         iterations=500,\n",
    "                         l2_leaf_reg=1e-20,\n",
    "                         leaf_estimation_iterations=10,\n",
    "                         logging_level='Silent',\n",
    "                         loss_function='Logloss',\n",
    "                         random_seed= 42)"
   ]
  },
  {
   "cell_type": "code",
   "execution_count": 6,
   "metadata": {
    "execution": {
     "iopub.execute_input": "2020-12-26T02:23:01.022416Z",
     "iopub.status.busy": "2020-12-26T02:23:01.016193Z",
     "iopub.status.idle": "2020-12-26T02:34:14.518804Z",
     "shell.execute_reply": "2020-12-26T02:34:14.519450Z"
    },
    "papermill": {
     "duration": 673.549446,
     "end_time": "2020-12-26T02:34:14.519640",
     "exception": false,
     "start_time": "2020-12-26T02:23:00.970194",
     "status": "completed"
    },
    "tags": []
   },
   "outputs": [
    {
     "data": {
      "text/plain": [
       "<catboost.core.CatBoostClassifier at 0x7f85a01e7910>"
      ]
     },
     "execution_count": 6,
     "metadata": {},
     "output_type": "execute_result"
    }
   ],
   "source": [
    "clf.fit(X_train, y_train)"
   ]
  },
  {
   "cell_type": "code",
   "execution_count": 7,
   "metadata": {
    "execution": {
     "iopub.execute_input": "2020-12-26T02:34:14.549529Z",
     "iopub.status.busy": "2020-12-26T02:34:14.548891Z",
     "iopub.status.idle": "2020-12-26T02:39:32.670025Z",
     "shell.execute_reply": "2020-12-26T02:39:32.668727Z"
    },
    "papermill": {
     "duration": 318.142324,
     "end_time": "2020-12-26T02:39:32.670169",
     "exception": false,
     "start_time": "2020-12-26T02:34:14.527845",
     "status": "completed"
    },
    "tags": []
   },
   "outputs": [],
   "source": [
    "rcount = 0\n",
    "for (test_df, prediction_df) in env.iter_test():\n",
    "    X_test = test_df.loc[:, features]\n",
    "    y_preds = clf.predict(X_test)\n",
    "    prediction_df.action = y_preds\n",
    "    env.predict(prediction_df)\n",
    "    rcount += len(test_df.index)"
   ]
  }
 ],
 "metadata": {
  "kernelspec": {
   "display_name": "Python 3",
   "language": "python",
   "name": "python3"
  },
  "language_info": {
   "codemirror_mode": {
    "name": "ipython",
    "version": 3
   },
   "file_extension": ".py",
   "mimetype": "text/x-python",
   "name": "python",
   "nbconvert_exporter": "python",
   "pygments_lexer": "ipython3",
   "version": "3.7.6"
  },
  "papermill": {
   "duration": 1152.992712,
   "end_time": "2020-12-26T02:39:33.827627",
   "environment_variables": {},
   "exception": null,
   "input_path": "__notebook__.ipynb",
   "output_path": "__notebook__.ipynb",
   "parameters": {},
   "start_time": "2020-12-26T02:20:20.834915",
   "version": "2.1.0"
  }
 },
 "nbformat": 4,
 "nbformat_minor": 4
}
